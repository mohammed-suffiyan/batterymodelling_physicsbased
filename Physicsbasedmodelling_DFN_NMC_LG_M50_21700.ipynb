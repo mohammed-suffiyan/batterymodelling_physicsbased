{
  "nbformat": 4,
  "nbformat_minor": 0,
  "metadata": {
    "colab": {
      "provenance": [],
      "authorship_tag": "ABX9TyN571FUQMnMfqIq8mzX8mBp",
      "include_colab_link": true
    },
    "kernelspec": {
      "name": "python3",
      "display_name": "Python 3"
    },
    "language_info": {
      "name": "python"
    }
  },
  "cells": [
    {
      "cell_type": "markdown",
      "metadata": {
        "id": "view-in-github",
        "colab_type": "text"
      },
      "source": [
        "<a href=\"https://colab.research.google.com/github/mohammed-suffiyan/batterymodelling_physicsbased/blob/main/Physicsbasedmodelling_DFN_NMC_LG_M50_21700.ipynb\" target=\"_parent\"><img src=\"https://colab.research.google.com/assets/colab-badge.svg\" alt=\"Open In Colab\"/></a>"
      ]
    },
    {
      "cell_type": "markdown",
      "source": [
        "# PyBamm DFN model\n"
      ],
      "metadata": {
        "id": "cOvEkH56KEl7"
      }
    },
    {
      "cell_type": "markdown",
      "source": [
        "# DFN model of NMC cell - LG M50 21700\n"
      ],
      "metadata": {
        "id": "6v6tun29KOUU"
      }
    },
    {
      "cell_type": "code",
      "source": [
        "\n",
        "!pip uninstall -y pybamm numpy matplotlib\n"
      ],
      "metadata": {
        "id": "2eZR1FqeNRcI"
      },
      "execution_count": null,
      "outputs": []
    },
    {
      "cell_type": "code",
      "source": [
        "!pip install numpy==1.24.3"
      ],
      "metadata": {
        "collapsed": true,
        "id": "9-ku-DRVOZT1"
      },
      "execution_count": null,
      "outputs": []
    },
    {
      "cell_type": "code",
      "source": [
        "!pip install matplotlib"
      ],
      "metadata": {
        "collapsed": true,
        "id": "7asAjTbMOi8q"
      },
      "execution_count": null,
      "outputs": []
    },
    {
      "cell_type": "code",
      "source": [
        "!pip install pybamm==25.4.2"
      ],
      "metadata": {
        "collapsed": true,
        "id": "9klAZwTOOpb8"
      },
      "execution_count": null,
      "outputs": []
    },
    {
      "cell_type": "code",
      "source": [
        "import pybamm"
      ],
      "metadata": {
        "id": "yHCBAzvCOwy7",
        "collapsed": true
      },
      "execution_count": null,
      "outputs": []
    },
    {
      "cell_type": "code",
      "source": [
        "model = pybamm.lithium_ion.DFN()"
      ],
      "metadata": {
        "id": "t1kUaIJIO6JO"
      },
      "execution_count": null,
      "outputs": []
    },
    {
      "cell_type": "code",
      "source": [
        "sim = pybamm.Simulation(model)"
      ],
      "metadata": {
        "id": "yUb4Ig5IPINK",
        "collapsed": true
      },
      "execution_count": null,
      "outputs": []
    },
    {
      "cell_type": "code",
      "source": [
        "sim.solve([0, 3600])"
      ],
      "metadata": {
        "id": "0DKyDWpnPQBQ"
      },
      "execution_count": null,
      "outputs": []
    },
    {
      "cell_type": "code",
      "source": [
        "sim.plot()"
      ],
      "metadata": {
        "id": "X8LQV9nVPfzl"
      },
      "execution_count": null,
      "outputs": []
    },
    {
      "cell_type": "code",
      "source": [
        "sim.plot_voltage_components()"
      ],
      "metadata": {
        "id": "kPsUNxqJPoFV"
      },
      "execution_count": null,
      "outputs": []
    },
    {
      "cell_type": "code",
      "source": [
        "params = pybamm.ParameterValues(\"Chen2020\")"
      ],
      "metadata": {
        "id": "ho22rcGrWCwn"
      },
      "execution_count": null,
      "outputs": []
    },
    {
      "cell_type": "code",
      "source": [
        "# Print all parameters and their values\n",
        "for key, value in params.items():\n",
        "    print(f\"{key} : {value}\")"
      ],
      "metadata": {
        "id": "--wQFwTEWL8l"
      },
      "execution_count": null,
      "outputs": []
    },
    {
      "cell_type": "code",
      "source": [],
      "metadata": {
        "id": "QVInTQgRbUdk"
      },
      "execution_count": null,
      "outputs": []
    }
  ]
}