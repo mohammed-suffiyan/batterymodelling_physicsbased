{
  "nbformat": 4,
  "nbformat_minor": 0,
  "metadata": {
    "colab": {
      "provenance": [],
      "authorship_tag": "ABX9TyMymF/NPpZr4wl4m8xUwJxH",
      "include_colab_link": true
    },
    "kernelspec": {
      "name": "python3",
      "display_name": "Python 3"
    },
    "language_info": {
      "name": "python"
    }
  },
  "cells": [
    {
      "cell_type": "markdown",
      "metadata": {
        "id": "view-in-github",
        "colab_type": "text"
      },
      "source": [
        "<a href=\"https://colab.research.google.com/github/mohammed-suffiyan/batterymodelling_physicsbased/blob/main/PyBaMM_listofmodels.ipynb\" target=\"_parent\"><img src=\"https://colab.research.google.com/assets/colab-badge.svg\" alt=\"Open In Colab\"/></a>"
      ]
    },
    {
      "cell_type": "markdown",
      "source": [
        "# PyBaMM - List of models"
      ],
      "metadata": {
        "id": "jf4O6w-vaTv-"
      }
    },
    {
      "cell_type": "code",
      "source": [
        "!pip install pybamm==25.4.2\n",
        "!pip install matplotlib\n",
        "!pip install numpy==1.24.3"
      ],
      "metadata": {
        "collapsed": true,
        "id": "S2vuarfmanEH"
      },
      "execution_count": null,
      "outputs": []
    },
    {
      "cell_type": "code",
      "source": [
        "import pybamm"
      ],
      "metadata": {
        "id": "Jv6xDI-Xa0HN"
      },
      "execution_count": null,
      "outputs": []
    },
    {
      "cell_type": "code",
      "source": [
        "# Get all parameter set names\n",
        "parameter_set_names = list(pybamm.parameter_sets)\n",
        "# Print the list\n",
        "print(list_of_parameter_sets)\n"
      ],
      "metadata": {
        "id": "SKN7QO8If6Q0"
      },
      "execution_count": null,
      "outputs": []
    },
    {
      "cell_type": "code",
      "source": [
        "params = pybamm.ParameterValues(\"Chen2020\")\n",
        "\n",
        "# Print all parameters and their values\n",
        "for key, value in params.items():\n",
        "    print(f\"{key} : {value}\")"
      ],
      "metadata": {
        "id": "GgGbAPQBlWuT"
      },
      "execution_count": null,
      "outputs": []
    },
    {
      "cell_type": "code",
      "source": [
        "\n",
        "# Loop over all available parameter sets\n",
        "for name in pybamm.parameter_sets:\n",
        "    print(\"=\"*80)\n",
        "    print(f\"Parameter Set: {name}\")\n",
        "    print(\"-\"*80)\n",
        "    try:\n",
        "        # Load the parameter set correctly\n",
        "        params = pybamm.ParameterValues(pybamm.parameter_sets[name])\n",
        "\n",
        "        # Print all parameter key-value pairs\n",
        "        for key, value in params.items():\n",
        "            print(f\"{key} : {value}\")\n",
        "    except Exception as e:\n",
        "        print(f\"Error loading parameter set '{name}': {e}\")\n"
      ],
      "metadata": {
        "id": "yWGchaSapL5y"
      },
      "execution_count": null,
      "outputs": []
    },
    {
      "cell_type": "code",
      "source": [],
      "metadata": {
        "id": "YDFM3hZztb8g"
      },
      "execution_count": null,
      "outputs": []
    }
  ]
}