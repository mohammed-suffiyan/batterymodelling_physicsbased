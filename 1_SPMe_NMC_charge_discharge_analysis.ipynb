{
  "nbformat": 4,
  "nbformat_minor": 0,
  "metadata": {
    "colab": {
      "provenance": [],
      "authorship_tag": "ABX9TyP1a7qhpulCtxS7bUiU+VrO",
      "include_colab_link": true
    },
    "kernelspec": {
      "name": "python3",
      "display_name": "Python 3"
    },
    "language_info": {
      "name": "python"
    }
  },
  "cells": [
    {
      "cell_type": "markdown",
      "metadata": {
        "id": "view-in-github",
        "colab_type": "text"
      },
      "source": [
        "<a href=\"https://colab.research.google.com/github/mohammed-suffiyan/batterymodelling_physicsbased/blob/main/1_SPMe_NMC_charge_discharge_analysis.ipynb\" target=\"_parent\"><img src=\"https://colab.research.google.com/assets/colab-badge.svg\" alt=\"Open In Colab\"/></a>"
      ]
    },
    {
      "cell_type": "markdown",
      "source": [
        "# 1. Charge-discharge analysis of a NMC cell using SPMe model\n",
        "\n",
        "Utilizing a widely used Pybamm parameter set \"Chen2020\" for LG M50 21700 cylindrical cell\n"
      ],
      "metadata": {
        "id": "jWi37zQsYV3M"
      }
    },
    {
      "cell_type": "code",
      "execution_count": null,
      "metadata": {
        "collapsed": true,
        "id": "u4usWXeIYINr"
      },
      "outputs": [],
      "source": [
        "!pip install pybamm==25.4.2\n",
        "!pip install matplotlib\n",
        "!pip install numpy==1.24.3"
      ]
    },
    {
      "cell_type": "code",
      "source": [
        "import pybamm\n",
        "import matplotlib.pyplot as plt"
      ],
      "metadata": {
        "collapsed": true,
        "id": "MqjmynomZAL-"
      },
      "execution_count": null,
      "outputs": []
    },
    {
      "cell_type": "code",
      "source": [
        "model = pybamm.lithium_ion.SPMe()\n",
        "param = pybamm.ParameterValues(\"Chen2020\")"
      ],
      "metadata": {
        "id": "9m3-pTsmZFZT"
      },
      "execution_count": null,
      "outputs": []
    },
    {
      "cell_type": "code",
      "source": [
        "# Create experiment: 0.5C charge and discharge\n",
        "experiment = pybamm.Experiment([\n",
        "    \"Discharge at 0.5C until 2.5V\",\n",
        "    \"Rest for 10 minutes\",\n",
        "    \"Charge at 0.5C until 4.2V\",\n",
        "    \"Rest for 10 minutes\"\n",
        "])"
      ],
      "metadata": {
        "id": "oo2uLEMAabsE"
      },
      "execution_count": null,
      "outputs": []
    },
    {
      "cell_type": "code",
      "source": [
        "sim = pybamm.Simulation(model, parameter_values=param, experiment=experiment)\n",
        "solution = sim.solve()"
      ],
      "metadata": {
        "collapsed": true,
        "id": "HLFBp6Rjavl-"
      },
      "execution_count": null,
      "outputs": []
    },
    {
      "cell_type": "code",
      "source": [
        "# plot\n",
        "plot = pybamm.QuickPlot(\n",
        "    solution,\n",
        "    [\n",
        "        \"Negative particle concentration [mol.m-3]\",\n",
        "        \"Electrolyte concentration [mol.m-3]\",\n",
        "        \"Positive particle concentration [mol.m-3]\",\n",
        "        \"Current [A]\",\n",
        "        \"Negative electrode potential [V]\",\n",
        "        \"Electrolyte potential [V]\",\n",
        "        \"Positive electrode potential [V]\",\n",
        "        \"Voltage [V]\",\n",
        "    ],\n",
        "    time_unit=\"seconds\",\n",
        "    spatial_unit=\"um\",\n",
        ")\n",
        "plot.dynamic_plot()"
      ],
      "metadata": {
        "collapsed": true,
        "id": "CgNkh5Ohld1L"
      },
      "execution_count": null,
      "outputs": []
    }
  ]
}